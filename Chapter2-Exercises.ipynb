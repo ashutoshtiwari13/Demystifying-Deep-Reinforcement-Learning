{
 "cells": [
  {
   "cell_type": "markdown",
   "metadata": {},
   "source": [
    "#### Exercise 2.1 \n",
    "In \"epsilon-greedy action selection, for the case of two actions and \"epsilon= 0.5, what is\n",
    "the probability that the greedy action is selected?"
   ]
  },
  {
   "cell_type": "markdown",
   "metadata": {},
   "source": [
    "#### Answer\n",
    "Greater than (1- epsilon) ; > 0.5"
   ]
  },
  {
   "cell_type": "markdown",
   "metadata": {},
   "source": [
    "#### Exercise 2.2: \n",
    "Bandit example Consider a k-armed bandit problem with k = 4 actions,\n",
    "denoted 1, 2, 3, and 4. Consider applying to this problem a bandit algorithm using\n",
    "\"epsilon-greedy action selection, sample-average action-value estimates, and initial estimates\n",
    "of Q1(a) = 0, for all a. Suppose the initial sequence of actions and rewards is A1 = 1,\n",
    "R1 = −1, A2 = 2, R2 = 1, A3 = 2, R3 = −2, A4 = 2, R4 = 2, A5 = 3, R5 = 0. On some\n",
    "of these time steps the \" case may have occurred, causing an action to be selected at\n",
    "random. On which time steps did this definitely occur? On which time steps could this\n",
    "possibly have occurred?"
   ]
  },
  {
   "cell_type": "markdown",
   "metadata": {},
   "source": [
    "#### Answer\n",
    "A3 and A5 the exploration has definitely occured. For the rest exploration *might* have occured."
   ]
  },
  {
   "cell_type": "markdown",
   "metadata": {},
   "source": [
    "#### Exercise 2.3 \n",
    "In the comparison shown in Figure 2.2, which method will perform best in\n",
    "the long run in terms of cumulative reward and probability of selecting the best action?\n",
    "How much better will it be? Express your answer quantitatively"
   ]
  },
  {
   "cell_type": "markdown",
   "metadata": {},
   "source": [
    "#### Answer\n",
    "The epsilon=0.01 method will perform better in the long run , as the total reward and probability of converging to an optimal action is almost 10 times higher than the latter with epsilon=0.1"
   ]
  },
  {
   "cell_type": "markdown",
   "metadata": {},
   "source": [
    "#### Exercise 2.4 \n",
    "If the step-size parameters, Alpha(n), are not constant, then the estimate Qn is\n",
    "a weighted average of previously received rewards with a weighting different from that\n",
    "given by (2.6). What is the weighting on each prior reward for the general case, analogous\n",
    "to (2.6), in terms of the sequence of step-size parameters?"
   ]
  },
  {
   "cell_type": "markdown",
   "metadata": {},
   "source": [
    "#### Answer\n",
    "NewEstimate <--- (product of (1-alpa(i))Q(1) + Sum(Alpha(n) * rewards) * (product of (1-alpha(n)) over iterations"
   ]
  },
  {
   "cell_type": "markdown",
   "metadata": {},
   "source": [
    "#### Exercise 2.5 (programming) \n",
    "Design and conduct an experiment to demonstrate the\n",
    "difficulties that sample-average methods have for nonstationary problems. Use a modified\n",
    "version of the 10-armed testbed in which all the q⇤(a) start out equal and then take\n",
    "independent random walks (say by adding a normally distributed increment with mean\n",
    "zero and standard deviation 0.01 to all the q⇤(a) on each step). Prepare plots like\n",
    "Figure 2.2 for an action-value method using sample averages, incrementally computed,\n",
    "and another action-value method using a constant step-size parameter, ↵ = 0.1. Use\n",
    "\" = 0.1 and longer runs, say of 10,000 steps."
   ]
  },
  {
   "cell_type": "markdown",
   "metadata": {},
   "source": [
    "#### Answer \n",
    "Code Jupyter Notebook"
   ]
  },
  {
   "cell_type": "markdown",
   "metadata": {},
   "source": [
    "#### Exercise 2.6: \n",
    "    Mysterious Spikes \n",
    "The results shown in Figure 2.3 should be quite reliable\n",
    "because they are averages over 2000 individual, randomly chosen 10-armed bandit tasks.\n",
    "Why, then, are there oscillations and spikes in the early part of the curve for the optimistic\n",
    "method? In other words, what might make this method perform particularly better or\n",
    "worse, on average, on particular early steps?"
   ]
  },
  {
   "cell_type": "markdown",
   "metadata": {},
   "source": [
    "#### Answer\n",
    "The spike initially indicates that the agent at around step 10 , during exploration , finds the optimal value searching greedily. This exploration happens in optimistic method as the agent is expecting a reward more than +5 but does not \"receive\" it and starts exploring , reaching any sub-optimal values."
   ]
  },
  {
   "cell_type": "markdown",
   "metadata": {},
   "source": [
    "#### Exercise 2.7: \n",
    "Unbiased Constant-Step-Size Trick In most of this chapter we have used\n",
    "sample averages to estimate action values because sample averages do not produce the\n",
    "initial bias that constant step sizes do (see the analysis leading to (2.6)). However, sample\n",
    "averages are not a completely satisfactory solution because they may perform poorly\n",
    "on nonstationary problems. Is it possible to avoid the bias of constant step sizes while\n",
    "retaining their advantages on nonstationary problems?"
   ]
  },
  {
   "cell_type": "markdown",
   "metadata": {},
   "source": [
    "#### Answer\n",
    "-- Needs Review ---\n"
   ]
  },
  {
   "cell_type": "markdown",
   "metadata": {},
   "source": [
    "#### Exercise 2.8: \n",
    "UCB Spikes In Figure 2.4 the UCB algorithm shows a distinct spike\n",
    "in performance on the 11th step. Why is this? Note that for your answer to be fully\n",
    "satisfactory it must explain both why the reward increases on the 11th step and why it\n",
    "decreases on the subsequent steps. Hint: If c = 1, then the spike is less prominent"
   ]
  },
  {
   "cell_type": "markdown",
   "metadata": {},
   "source": [
    "#### Answer\n",
    "Apart from the first 10 steps , in the 11th step the agent will choose greedily and so the spike. It starts to decrease gradually as ln(t) starts overtaking N(a) , i.e the agent starts exploring."
   ]
  },
  {
   "cell_type": "markdown",
   "metadata": {},
   "source": [
    "#### Exercise 2.9 \n",
    "Show that in the case of two actions, the soft-max distribution is the same\n",
    "as that given by the logistic, or sigmoid, function often used in statistics and artificial\n",
    "neural networks."
   ]
  },
  {
   "cell_type": "markdown",
   "metadata": {},
   "source": [
    "#### Answer\n",
    "Let the two actions be denoted by 0 and 1.\n",
    "probablity{taking action} according to soft-max distribution  = e^(h(1))/e^(h(1))+e^(h(0)) which is equal to 1/1+ e^(-x) where x = h(1) - h(0)"
   ]
  },
  {
   "cell_type": "markdown",
   "metadata": {},
   "source": [
    "#### Exercise 2.10 \n",
    "Suppose you face a 2-armed bandit task whose true action values change\n",
    "randomly from time step to time step. Specifically, suppose that, for any time step, the\n",
    "true values of actions 1 and 2 are respectively 0.1 and 0.2 with probability 0.5 (case A),\n",
    "and 0.9 and 0.8 with probability 0.5 (case B). If you are not able to tell which case you\n",
    "face at any step, what is the best expectation of success you can achieve and how should\n",
    "you behave to achieve it? Now suppose that on each step you are told whether you are\n",
    "facing case A or case B (although you still don’t know the true action values). This is an\n",
    "associative search task. What is the best expectation of success you can achieve in this\n",
    "task, and how should you behave to achieve it?"
   ]
  },
  {
   "cell_type": "markdown",
   "metadata": {},
   "source": [
    "#### Answer\n",
    "We should chose the action which gives us the highest expected rewards. In Case A both the actions have an expected value of ).5 , so choosing any one of them does not matter. "
   ]
  }
 ],
 "metadata": {
  "kernelspec": {
   "display_name": "Python 3",
   "language": "python",
   "name": "python3"
  },
  "language_info": {
   "codemirror_mode": {
    "name": "ipython",
    "version": 3
   },
   "file_extension": ".py",
   "mimetype": "text/x-python",
   "name": "python",
   "nbconvert_exporter": "python",
   "pygments_lexer": "ipython3",
   "version": "3.7.3"
  }
 },
 "nbformat": 4,
 "nbformat_minor": 2
}
